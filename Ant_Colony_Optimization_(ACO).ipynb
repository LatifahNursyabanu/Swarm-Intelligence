{
  "nbformat": 4,
  "nbformat_minor": 0,
  "metadata": {
    "colab": {
      "provenance": []
    },
    "kernelspec": {
      "name": "python3",
      "display_name": "Python 3"
    },
    "language_info": {
      "name": "python"
    }
  },
  "cells": [
    {
      "cell_type": "markdown",
      "source": [
        "# ACO for Optimal Power Flow\n",
        "\n",
        "ACO digunakan untuk merancang distribusi daya yang efisien dengan memecahkan masalah aliran daya optimal dalam jaringan listrik sehingga meminimalisir biaya sekaligus memenuhi kebutuhan listrik.\n"
      ],
      "metadata": {
        "id": "bMLoCyKwf08C"
      }
    },
    {
      "cell_type": "markdown",
      "source": [
        "## Inisiasi Parameter"
      ],
      "metadata": {
        "id": "2b4kPHAVq-Kn"
      }
    },
    {
      "cell_type": "code",
      "source": [
        "import numpy as np\n",
        "import random\n",
        "\n",
        "# Parameter ACO\n",
        "NUM_ANTS = 10\n",
        "NUM_ITERATIONS = 50\n",
        "ALPHA = 1       # Pengaruh feromon\n",
        "BETA = 2        # Pengaruh heuristik\n",
        "EVAPORATION = 0.5\n",
        "Q = 1           # Konstanta feromon"
      ],
      "metadata": {
        "id": "Wi1z7aNUqbKe"
      },
      "execution_count": null,
      "outputs": []
    },
    {
      "cell_type": "markdown",
      "source": [
        "*   NUM_ANTS = 10\n",
        "\n",
        "Jumlah semut yang digunakan dalam setiap iterasi dimana semut berperan sebagai agen pencari solusi. Semakin banyak semut maka eksplorasi solusi lebih luas namun waktu komputasi meningkat. Nilai 10 dipilih karena data merupakan dummy sederhana sebagai simulasi.\n",
        "\n",
        "*   NUM_ITERATIONS = 50\n",
        "\n",
        "Jumlah iterasi yang dijalankan algoritma. Semakin besar jumlah iterasi makan kemungkinan menemukan solusi terbaik meningkat tetapi memakan biaya waktu komputasi.\n",
        "\n",
        "*   ALPHA = 1\n",
        "\n",
        "Pengaruh feromon dalam probabilitas pemilihan jalur.Semakin besar 𝛼 maka jalur dengan feromon lebih banyak diprioritaskan (eksploitasi).\n",
        "\n",
        "*   BETA = 2\n",
        "\n",
        "Pengaruh heuristik (informasi lokal) dalam probabilitas pemilihan jalur. Semakin besar 𝛽 maka lebih mengutamakan jalur dengan nilai heuristik tinggi (eksplorasi).\n",
        "\n",
        "*   EVAPORATION = 0.5\n",
        "\n",
        "Laju penguapan feromon di setiap iterasi (𝜌) . Nilai kecil (𝜌 → 0) maka feromon bertahan lama (eksploitasi). Nilai besar (𝜌 → 1) maka feromon cepat menghilang (eksplorasi).\n",
        "\n",
        "*   Q = 1\n",
        "\n",
        "Konstanta feromon yang menentukan seberapa banyak feromon ditambahkan ke jalur oleh agen. Nilai Q besar memperkuat jalur yang baik secara signifikan. Sedangkan nilai Q kecil membuat eksplorasi lebih merata."
      ],
      "metadata": {
        "id": "tyGQsp1lp8Tl"
      }
    },
    {
      "cell_type": "markdown",
      "source": [
        "## Input Data Generator\n",
        "\n",
        "Setiap pembangkit memiliki batas daya minimum dan maksimum (𝑃min,𝑃max) dan koefisien fungsi biaya."
      ],
      "metadata": {
        "id": "URl6-7BBqTHc"
      }
    },
    {
      "cell_type": "code",
      "source": [
        "# Data sistem pembangkit\n",
        "GEN_DATA = [\n",
        "    {\"Pmin\": 10, \"Pmax\": 50, \"cost_coeff\": [0.2, 10, 5]},  # [a, b, c]\n",
        "    {\"Pmin\": 20, \"Pmax\": 60, \"cost_coeff\": [0.15, 8, 7]},\n",
        "    {\"Pmin\": 30, \"Pmax\": 80, \"cost_coeff\": [0.1, 6, 10]}]\n",
        "\n",
        "TOTAL_DEMAND = 100  # Permintaan daya total (MW)\n",
        "NUM_GENERATORS = len(GEN_DATA)"
      ],
      "metadata": {
        "id": "iERRQagLqtJr"
      },
      "execution_count": null,
      "outputs": []
    },
    {
      "cell_type": "markdown",
      "source": [
        "## Fungsi Biaya"
      ],
      "metadata": {
        "id": "9pREwYCJqwlv"
      }
    },
    {
      "cell_type": "code",
      "source": [
        "# Fungsi biaya pembangkitan daya\n",
        "def generation_cost(power, coeff):\n",
        "    a, b, c = coeff\n",
        "    return a * power**2 + b * power + c\n",
        "\n",
        "# Fungsi untuk menghitung total biaya\n",
        "def total_cost(solution):\n",
        "    cost = 0\n",
        "    for i, power in enumerate(solution):\n",
        "        cost += generation_cost(power, GEN_DATA[i][\"cost_coeff\"])\n",
        "    return cost"
      ],
      "metadata": {
        "id": "TGz1iAXNqz2h"
      },
      "execution_count": null,
      "outputs": []
    },
    {
      "cell_type": "markdown",
      "source": [
        "Fungsi kuadratik C(P)=aP^2+bP+c digunakan untuk menghitung biaya pembangkit daya. Fungsi kuadratik dipakai karena bentuknya yang sederhana namun cukup fleksibel sehingga memungkinkan perhitungan efisien dalam algoritma optimasi serta dapat merepresentasikan dengan baik karakteristik biaya operasional sebagian besar pembangkit daya.\n",
        "\n",
        "*   Komponen kuadrat (aP^2), Mewakili biaya yang meningkat secara non linear dengan daya yang dihasilkan. Biaya ini disebabkan oleh efisiensi turbin atau generator yang menurun ketika pembangkit beroperasi mendekati kapasitas maksimal.\n",
        "\n",
        "*   Komponen Linear (bP), Menunjukkan biaya variabel seperti bahan bakar atau kebutuhan tenaga kerja tambahan yang meningkat sebanding dengan daya yang diharapkan.\n",
        "\n",
        "*   Komponen konstanta (c), Merupakan biaya tetap yang tidak bergantung pada daya yang dihasilkan seperti biaya administrasi atau perawatan."
      ],
      "metadata": {
        "id": "IdDnfiSCs0Kb"
      }
    },
    {
      "cell_type": "markdown",
      "source": [
        "# Algoritma ACO\n",
        "Setiap semut mencari solusi berdasarkan probabilitas pemilihan data untuk setiap pembangkit. Sedangkan feromon diperbarui berdasarkan solusi yang ditemukan oleh semut."
      ],
      "metadata": {
        "id": "SZgBekm2tPBS"
      }
    },
    {
      "cell_type": "code",
      "execution_count": 3,
      "metadata": {
        "colab": {
          "base_uri": "https://localhost:8080/"
        },
        "id": "7KT7vucjCJh6",
        "outputId": "2ece4709-8516-4d2a-cf31-874eabeec69f"
      },
      "outputs": [
        {
          "output_type": "stream",
          "name": "stdout",
          "text": [
            "Iterasi 1: Biaya terbaik = 1283.85, Solusi terbaik = [32, 21, 47]\n",
            "Iterasi 2: Biaya terbaik = 1283.85, Solusi terbaik = [32, 21, 47]\n",
            "Iterasi 3: Biaya terbaik = 1283.85, Solusi terbaik = [32, 21, 47]\n",
            "Iterasi 4: Biaya terbaik = 1283.85, Solusi terbaik = [32, 21, 47]\n",
            "Iterasi 5: Biaya terbaik = 1283.85, Solusi terbaik = [32, 21, 47]\n",
            "Iterasi 6: Biaya terbaik = 1283.85, Solusi terbaik = [32, 21, 47]\n",
            "Iterasi 7: Biaya terbaik = 1283.85, Solusi terbaik = [32, 21, 47]\n",
            "Iterasi 8: Biaya terbaik = 1283.85, Solusi terbaik = [32, 21, 47]\n",
            "Iterasi 9: Biaya terbaik = 1283.85, Solusi terbaik = [32, 21, 47]\n",
            "Iterasi 10: Biaya terbaik = 1283.85, Solusi terbaik = [32, 21, 47]\n",
            "Iterasi 11: Biaya terbaik = 1238.25, Solusi terbaik = [10, 29, 61]\n",
            "Iterasi 12: Biaya terbaik = 1238.25, Solusi terbaik = [10, 29, 61]\n",
            "Iterasi 13: Biaya terbaik = 1238.25, Solusi terbaik = [10, 29, 61]\n",
            "Iterasi 14: Biaya terbaik = 1238.25, Solusi terbaik = [10, 29, 61]\n",
            "Iterasi 15: Biaya terbaik = 1238.25, Solusi terbaik = [10, 29, 61]\n",
            "Iterasi 16: Biaya terbaik = 1238.25, Solusi terbaik = [10, 29, 61]\n",
            "Iterasi 17: Biaya terbaik = 1238.25, Solusi terbaik = [10, 29, 61]\n",
            "Iterasi 18: Biaya terbaik = 1238.25, Solusi terbaik = [10, 29, 61]\n",
            "Iterasi 19: Biaya terbaik = 1238.25, Solusi terbaik = [10, 29, 61]\n",
            "Iterasi 20: Biaya terbaik = 1238.25, Solusi terbaik = [10, 29, 61]\n",
            "Iterasi 21: Biaya terbaik = 1238.25, Solusi terbaik = [10, 29, 61]\n",
            "Iterasi 22: Biaya terbaik = 1238.25, Solusi terbaik = [10, 29, 61]\n",
            "Iterasi 23: Biaya terbaik = 1238.25, Solusi terbaik = [10, 29, 61]\n",
            "Iterasi 24: Biaya terbaik = 1238.25, Solusi terbaik = [10, 29, 61]\n",
            "Iterasi 25: Biaya terbaik = 1238.25, Solusi terbaik = [10, 29, 61]\n",
            "Iterasi 26: Biaya terbaik = 1238.25, Solusi terbaik = [10, 29, 61]\n",
            "Iterasi 27: Biaya terbaik = 1238.25, Solusi terbaik = [10, 29, 61]\n",
            "Iterasi 28: Biaya terbaik = 1238.25, Solusi terbaik = [10, 29, 61]\n",
            "Iterasi 29: Biaya terbaik = 1238.25, Solusi terbaik = [10, 29, 61]\n",
            "Iterasi 30: Biaya terbaik = 1238.25, Solusi terbaik = [10, 29, 61]\n",
            "Iterasi 31: Biaya terbaik = 1238.25, Solusi terbaik = [10, 29, 61]\n",
            "Iterasi 32: Biaya terbaik = 1238.25, Solusi terbaik = [10, 29, 61]\n",
            "Iterasi 33: Biaya terbaik = 1238.25, Solusi terbaik = [10, 29, 61]\n",
            "Iterasi 34: Biaya terbaik = 1238.25, Solusi terbaik = [10, 29, 61]\n",
            "Iterasi 35: Biaya terbaik = 1238.25, Solusi terbaik = [10, 29, 61]\n",
            "Iterasi 36: Biaya terbaik = 1238.25, Solusi terbaik = [10, 29, 61]\n",
            "Iterasi 37: Biaya terbaik = 1238.25, Solusi terbaik = [10, 29, 61]\n",
            "Iterasi 38: Biaya terbaik = 1238.25, Solusi terbaik = [10, 29, 61]\n",
            "Iterasi 39: Biaya terbaik = 1238.25, Solusi terbaik = [10, 29, 61]\n",
            "Iterasi 40: Biaya terbaik = 1238.25, Solusi terbaik = [10, 29, 61]\n",
            "Iterasi 41: Biaya terbaik = 1238.25, Solusi terbaik = [10, 29, 61]\n",
            "Iterasi 42: Biaya terbaik = 1238.25, Solusi terbaik = [10, 29, 61]\n",
            "Iterasi 43: Biaya terbaik = 1238.25, Solusi terbaik = [10, 29, 61]\n",
            "Iterasi 44: Biaya terbaik = 1238.25, Solusi terbaik = [10, 29, 61]\n",
            "Iterasi 45: Biaya terbaik = 1238.25, Solusi terbaik = [10, 29, 61]\n",
            "Iterasi 46: Biaya terbaik = 1238.25, Solusi terbaik = [10, 29, 61]\n",
            "Iterasi 47: Biaya terbaik = 1238.25, Solusi terbaik = [10, 29, 61]\n",
            "Iterasi 48: Biaya terbaik = 1238.25, Solusi terbaik = [10, 29, 61]\n",
            "Iterasi 49: Biaya terbaik = 1238.25, Solusi terbaik = [10, 29, 61]\n",
            "Iterasi 50: Biaya terbaik = 1238.25, Solusi terbaik = [10, 29, 61]\n",
            "\n",
            "Solusi optimal:\n",
            "Pembangkit 1: 10 MW\n",
            "Pembangkit 2: 29 MW\n",
            "Pembangkit 3: 61 MW\n",
            "Total Biaya: 1238.25\n"
          ]
        }
      ],
      "source": [
        "import numpy as np\n",
        "import random\n",
        "\n",
        "# Parameter ACO\n",
        "NUM_ANTS = 10\n",
        "NUM_ITERATIONS = 50\n",
        "ALPHA = 1       # Pengaruh feromon\n",
        "BETA = 2        # Pengaruh heuristik\n",
        "EVAPORATION = 0.5\n",
        "Q = 1           # Konstanta feromon\n",
        "\n",
        "# Data sistem pembangkit\n",
        "GEN_DATA = [\n",
        "    {\"Pmin\": 10, \"Pmax\": 50, \"cost_coeff\": [0.2, 10, 5]},  # [a, b, c]\n",
        "    {\"Pmin\": 20, \"Pmax\": 60, \"cost_coeff\": [0.15, 8, 7]},\n",
        "    {\"Pmin\": 30, \"Pmax\": 80, \"cost_coeff\": [0.1, 6, 10]}\n",
        "]\n",
        "\n",
        "TOTAL_DEMAND = 100  # Permintaan daya total (MW)\n",
        "NUM_GENERATORS = len(GEN_DATA)\n",
        "\n",
        "# Fungsi biaya pembangkitan daya\n",
        "def generation_cost(power, coeff):\n",
        "    a, b, c = coeff\n",
        "    return a * power**2 + b * power + c\n",
        "\n",
        "# Fungsi untuk menghitung total biaya\n",
        "def total_cost(solution):\n",
        "    cost = 0\n",
        "    for i, power in enumerate(solution):\n",
        "        cost += generation_cost(power, GEN_DATA[i][\"cost_coeff\"])\n",
        "    return cost\n",
        "\n",
        "# Inisialisasi feromon\n",
        "pheromone = np.ones((NUM_GENERATORS, 101))  # Untuk setiap pembangkit dan kemungkinan daya (0-100 MW)\n",
        "\n",
        "# Algoritma ACO\n",
        "def ant_colony_optimization():\n",
        "    global pheromone\n",
        "    best_solution = None\n",
        "    best_cost = float('inf')\n",
        "\n",
        "    for iteration in range(NUM_ITERATIONS):\n",
        "        all_solutions = []\n",
        "        all_costs = []\n",
        "\n",
        "        # Setiap semut mencari solusi\n",
        "        for ant in range(NUM_ANTS):\n",
        "            solution = []\n",
        "            remaining_demand = TOTAL_DEMAND\n",
        "\n",
        "            # Setiap pembangkit menentukan daya\n",
        "            for i in range(NUM_GENERATORS):\n",
        "                # Probabilitas pemilihan daya\n",
        "                probabilities = []\n",
        "                for power in range(101):\n",
        "                    if GEN_DATA[i][\"Pmin\"] <= power <= GEN_DATA[i][\"Pmax\"] and power <= remaining_demand:\n",
        "                        heuristic = 1 / (generation_cost(power, GEN_DATA[i][\"cost_coeff\"]) + 1)\n",
        "                        prob = (pheromone[i][power]**ALPHA) * (heuristic**BETA)\n",
        "                    else:\n",
        "                        prob = 0\n",
        "                    probabilities.append(prob)\n",
        "                probabilities = np.array(probabilities)\n",
        "                probabilities = probabilities.sum()\n",
        "\n",
        "                # Probabilitas pemilihan daya\n",
        "                probabilities = []\n",
        "                for power in range(101):\n",
        "                    if GEN_DATA[i][\"Pmin\"] <= power <= GEN_DATA[i][\"Pmax\"] and power <= remaining_demand:\n",
        "                        heuristic = 1 / (generation_cost(power, GEN_DATA[i][\"cost_coeff\"]) + 1)\n",
        "                        prob = (pheromone[i][power]**ALPHA) * (heuristic**BETA)\n",
        "                    else:\n",
        "                        prob = 0\n",
        "                    probabilities.append(prob)\n",
        "\n",
        "                # Konversi ke array numpy\n",
        "                probabilities = np.array(probabilities, dtype=float)\n",
        "\n",
        "                # Tangani kasus jika semua probabilitas bernilai nol\n",
        "                if probabilities.sum() == 0:\n",
        "                    probabilities = np.ones_like(probabilities) / len(probabilities)  # Probabilitas seragam\n",
        "                else:\n",
        "                    probabilities /= probabilities.sum()  # Normalisasi\n",
        "\n",
        "                # Pilih daya berdasarkan probabilitas\n",
        "                #power = np.random.choice(range(101), p=probabilities)\n",
        "\n",
        "                # Pilih daya berdasarkan probabilitas\n",
        "                power = np.random.choice(range(101), p=probabilities)\n",
        "                solution.append(power)\n",
        "                remaining_demand -= power\n",
        "\n",
        "            # Validasi solusi\n",
        "            if remaining_demand <= 0:\n",
        "                solution_cost = total_cost(solution)\n",
        "                all_solutions.append(solution)\n",
        "                all_costs.append(solution_cost)\n",
        "\n",
        "                # Perbarui solusi terbaik\n",
        "                if solution_cost < best_cost:\n",
        "                    best_solution = solution\n",
        "                    best_cost = solution_cost\n",
        "\n",
        "        # Update feromon\n",
        "        pheromone *= (1 - EVAPORATION)\n",
        "        for i, solution in enumerate(all_solutions):\n",
        "            for g, power in enumerate(solution):\n",
        "                pheromone[g][power] += Q / all_costs[i]\n",
        "\n",
        "        # Log iterasi\n",
        "        print(f\"Iterasi {iteration + 1}: Biaya terbaik = {best_cost}, Solusi terbaik = {best_solution}\")\n",
        "\n",
        "    return best_solution, best_cost\n",
        "\n",
        "# Jalankan ACO\n",
        "best_solution, best_cost = ant_colony_optimization()\n",
        "print(\"\\nSolusi optimal:\")\n",
        "for i, power in enumerate(best_solution):\n",
        "    print(f\"Pembangkit {i + 1}: {power} MW\")\n",
        "print(f\"Total Biaya: {best_cost}\")\n"
      ]
    },
    {
      "cell_type": "markdown",
      "source": [
        "## HASIL\n",
        "Pembangkit 1 menghasilkan daya 10 MW\n",
        "\n",
        "Pembangkit 2 menghasilkan daya 29 MW\n",
        "\n",
        "Pembangkit 3 menghasilkan daya 61 MW\n",
        "\n",
        "Kombinasi tersebut memenuhi permitaan daya sebesar 100 MW sekaligus menghasilkan biaya total terendah yaitu 1238.25 unit."
      ],
      "metadata": {
        "id": "hcpEVpYntmTW"
      }
    },
    {
      "cell_type": "markdown",
      "source": [
        "# Kesimpulan\n",
        "\n",
        "Kode ini adalah implementasi dasar yang dapat dimodifikasi untuk menambah lebih banyak pembangkit, parameter biaya atau modifikasi menggunakan tools machine learning seperti GridSearch untuk hasil yang lebih baik. Implementasi ini juga dapat dikembangkan lebih lanjut dengan menggunakan train-test data untuk mengukur akurasinya."
      ],
      "metadata": {
        "id": "12O1NsjMuum1"
      }
    }
  ]
}